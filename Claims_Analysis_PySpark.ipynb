{
 "cells": [
  {
   "cell_type": "code",
   "execution_count": 1,
   "metadata": {},
   "outputs": [],
   "source": [
    "import pyspark\n",
    "from pyspark import SparkContext, SparkConf\n",
    "from pyspark.sql import SparkSession, SQLContext\n",
    "from pyspark.sql.functions import lit, substring, rand, array\n",
    "from pyspark.sql.types import *\n",
    "import csv\n",
    "import numpy as np"
   ]
  },
  {
   "cell_type": "code",
   "execution_count": 2,
   "metadata": {},
   "outputs": [],
   "source": [
    "#set up PySpark environment\n",
    "conf = SparkConf().setAppName('claims_analysis').setMaster('local[*]')\n",
    "sc = SparkContext.getOrCreate(conf)\n",
    "spark = SparkSession(sc)\n",
    "sqlContext = SQLContext(sc)"
   ]
  },
  {
   "cell_type": "markdown",
   "metadata": {},
   "source": [
    "# Load benefits data"
   ]
  },
  {
   "cell_type": "code",
   "execution_count": null,
   "metadata": {},
   "outputs": [],
   "source": [
    "#define schema of benefits data \n",
    "#Patient IDs are non-identifying\n",
    "#Source: https://www.cms.gov/Research-Statistics-Data-and-Systems/Downloadable-Public-Use-Files/SynPUFs/DE_Syn_PUF\n",
    "field = [StructField('DESYNPUF_ID',StringType(), True),\n",
    "         StructField('BENE_BIRTH_DT', IntegerType(), True),\n",
    "         StructField('BENE_DEATH_DT', IntegerType(), True),\n",
    "         StructField('BENE_SEX_IDENT_CD', IntegerType(), True),\n",
    "         StructField('BENE_RACE_CD', IntegerType(), True),\n",
    "         StructField('BENE_ESRD_IND', IntegerType(), True),\n",
    "         StructField('SP_STATE_CODE', IntegerType(), True),\n",
    "         StructField('BENE_COUNTY_CD', IntegerType(), True),\n",
    "         StructField('SP_ALZHDMTA', IntegerType(), True),\n",
    "         StructField('SP_CHF', IntegerType(), True),\n",
    "         StructField('SP_CHRNKIDN', IntegerType(), True),\n",
    "         StructField('SP_CNCR', IntegerType(), True),\n",
    "         StructField('SP_COPD', IntegerType(), True),\n",
    "         StructField('SP_DEPRESSN', IntegerType(), True),\n",
    "         StructField('SP_DIABETES', IntegerType(), True),\n",
    "         StructField('YEAR', IntegerType(), True),\n",
    "        ]\n",
    "\n",
    "schema = StructType(field)\n",
    "bene = spark.createDataFrame(sc.emptyRDD(), schema)\n",
    "\n",
    "#process all files stored in the Data/Beneficiary folder\n",
    "for year in ['2008', '2009', '2010']:\n",
    "    for i in range(20):\n",
    "        df = spark.read.csv('Data/Beneficiary/DE1_0_{}_Beneficiary_Summary_File_Sample_{}.csv'.format(year, i+1), sep=',', header=True, inferSchema=True)\n",
    "        df = df.select(['DESYNPUF_ID', 'BENE_BIRTH_DT', 'BENE_DEATH_DT', \n",
    "                          'BENE_SEX_IDENT_CD', 'BENE_RACE_CD', 'BENE_ESRD_IND',\n",
    "                          'SP_STATE_CODE', 'BENE_COUNTY_CD', \n",
    "                         'SP_ALZHDMTA', 'SP_CHF', 'SP_CHRNKIDN', 'SP_CNCR', 'SP_COPD', 'SP_DEPRESSN', 'SP_DIABETES'\n",
    "                         ])\n",
    "                      \n",
    "        df = df.withColumn('YEAR', lit(year))\n",
    "        \n",
    "        bene = bene.union(df)"
   ]
  },
  {
   "cell_type": "markdown",
   "metadata": {},
   "source": [
    "# Load claims data"
   ]
  },
  {
   "cell_type": "code",
   "execution_count": null,
   "metadata": {},
   "outputs": [],
   "source": [
    "#define schema for the Outpatient Claims data\n",
    "#Patient IDs are non-identifying\n",
    "#Source: https://www.cms.gov/Research-Statistics-Data-and-Systems/Downloadable-Public-Use-Files/SynPUFs/DE_Syn_PUF\n",
    "field = [StructField('DESYNPUF_ID',StringType(), True),\n",
    "         StructField('CLM_ID', IntegerType(), True),\n",
    "         StructField('CLM_FROM_DT', IntegerType(), True),\n",
    "         StructField('CLM_THRU_DT', IntegerType(), True),\n",
    "         StructField('CLM_PMT_AMT', IntegerType(), True),\n",
    "         StructField('AT_PHYSN_NPI', IntegerType(), True),\n",
    "         StructField('ICD9_DGNS_CD_1', IntegerType(), True),\n",
    "        ]\n",
    "\n",
    "schema = StructType(field)\n",
    "claims = spark.createDataFrame(sc.emptyRDD(), schema)\n",
    "\n",
    "#process all 20 outpatient claims files and store into single 'claims' variable\n",
    "for i in range(20):\n",
    "    df = spark.read.csv('Data/Outpatient/DE1_0_2008_to_2010_Outpatient_Claims_Sample_{}.csv'.format(i+1), sep=',', header=True, inferSchema=True)\n",
    "    df = df.select(['DESYNPUF_ID',\n",
    "         'CLM_ID', \n",
    "         'CLM_FROM_DT', \n",
    "         'CLM_THRU_DT', \n",
    "         'CLM_PMT_AMT', \n",
    "         'AT_PHYSN_NPI', \n",
    "         'ICD9_DGNS_CD_1'])\n",
    "        \n",
    "    claims = claims.union(df)\n",
    "    \n",
    "claims = claims.withColumn('YEAR', substring('CLM_THRU_DT',1,4))"
   ]
  },
  {
   "cell_type": "markdown",
   "metadata": {},
   "source": [
    "# Load NPI data"
   ]
  },
  {
   "cell_type": "code",
   "execution_count": null,
   "metadata": {},
   "outputs": [],
   "source": [
    "#NPI is National Prescriber Identifier and is a standard identifier for health care professionals\n",
    "#This data set will allow us to link the location of HCPs to determine zip codes with the highest concentration of prescribing patterns\n",
    "#Source: https://download.cms.gov/nppes/NPI_Files.html\n",
    "npi = spark.read.csv('Data/NPI/NPPES_Data_Dissemination_November_2020/npidata_pfile_20050523-20201108.csv',\n",
    "                          header=True, inferSchema=True)\n",
    "\n",
    "#Limit dataset to necesary HCP identifying attriubutes. \n",
    "npi = npi.select(['NPI'\n",
    ",'Provider Last Name (Legal Name)'\n",
    ",'Provider First Name'\n",
    ",'Provider Middle Name'\n",
    ",'Provider Credential Text'\n",
    ",'Provider First Line Business Mailing Address'\n",
    ",'Provider Second Line Business Mailing Address'\n",
    ",'Provider Business Mailing Address City Name'\n",
    ",'Provider Business Mailing Address State Name'\n",
    ",'Provider Business Mailing Address Postal Code'\n",
    ",\"`Provider Business Mailing Address Country Code (If outside U.S.)`\"\n",
    ",'Provider Business Mailing Address Telephone Number'\n",
    ",'Provider Business Mailing Address Fax Number'\n",
    "])\n",
    "\n",
    "npi = npi.withColumn('ZIP_CODE', substring('Provider Business Mailing Address Postal Code',1,5))"
   ]
  },
  {
   "cell_type": "markdown",
   "metadata": {},
   "source": [
    "# Load the ICD Lookup table"
   ]
  },
  {
   "cell_type": "code",
   "execution_count": null,
   "metadata": {},
   "outputs": [],
   "source": [
    "#This will help us understand what the official ICD diagnosis codes actually mean\n",
    "# Source: https://www.cms.gov/Medicare/Coding/ICD9ProviderDiagnosticCodes/codes\n",
    "icd_lookup = spark.read.csv('Data/Outpatient/CMS28_DESC_LONG_SHORT_DX.csv',\n",
    "                           header=True, inferSchema=True)"
   ]
  }
 ],
 "metadata": {
  "kernelspec": {
   "display_name": "Python 3",
   "language": "python",
   "name": "python3"
  },
  "language_info": {
   "codemirror_mode": {
    "name": "ipython",
    "version": 3
   },
   "file_extension": ".py",
   "mimetype": "text/x-python",
   "name": "python",
   "nbconvert_exporter": "python",
   "pygments_lexer": "ipython3",
   "version": "3.7.1"
  }
 },
 "nbformat": 4,
 "nbformat_minor": 2
}
